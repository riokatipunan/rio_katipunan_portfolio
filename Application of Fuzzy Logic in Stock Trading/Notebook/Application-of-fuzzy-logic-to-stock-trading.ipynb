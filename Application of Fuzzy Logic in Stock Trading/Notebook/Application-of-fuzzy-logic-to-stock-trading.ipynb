{
 "cells": [
  {
   "cell_type": "markdown",
   "metadata": {},
   "source": [
    "# Application of Fuzz Logic in Stock Trading\n",
    "\n",
    "This notebook explores fuzzy logic in its application in stock trading. The data that was used in this notebook were historical stock price data of publicly listed compnies in the Philippines."
   ]
  },
  {
   "cell_type": "code",
   "execution_count": 1,
   "metadata": {},
   "outputs": [],
   "source": [
    "import pandas as pd"
   ]
  },
  {
   "cell_type": "code",
   "execution_count": null,
   "metadata": {},
   "outputs": [],
   "source": []
  },
  {
   "cell_type": "code",
   "execution_count": 2,
   "metadata": {},
   "outputs": [],
   "source": [
    "def trimf(val, vector):\n",
    "    \"\"\"\n",
    "    Triangular membership function\n",
    "    \n",
    "    This function calculates the fuzzy value of a crisp input\n",
    "    \n",
    "    a <= b <= c\n",
    "    \n",
    "    Args\n",
    "    ----\n",
    "    \n",
    "    val:\n",
    "        crisp value to be fuzzified\n",
    "        \n",
    "    vector:\n",
    "        values of the left base, peak, and right of the triangular membership function\n",
    "        \n",
    "    Returns\n",
    "    -------\n",
    "        fuzzified value from the crisp value\n",
    "    \"\"\"\n",
    "    \n",
    "    \n",
    "    assert len(vector) == 3, \"the length of the vector must be equal to 3\"\n",
    "    \n",
    "    a, b, c = vector\n",
    "    assert a <= b, \"a must be less than or equal to b\"\n",
    "    assert b <= c, \"b must be less than or equal to c\"\n",
    "    \n",
    "    if val <= a:\n",
    "        return 0\n",
    "    elif (val >= a) and (val <= b):\n",
    "        return (val - a)/(b - a)\n",
    "    elif (val >= b) and (val <= c):\n",
    "        return (c - val)/(c - b) \n",
    "    elif val >= c:\n",
    "        return 0        "
   ]
  },
  {
   "cell_type": "code",
   "execution_count": null,
   "metadata": {},
   "outputs": [],
   "source": [
    "def linearf(val, vector, positive_slope = True):\n",
    "    \"\"\"\n",
    "    a <= b\n",
    "    \n",
    "    Parameters\n",
    "    ----------\n",
    "    \n",
    "    val:\n",
    "        The value to be fuzzified\n",
    "        \n",
    "    vector:\n",
    "        A length 2 vector that defines the linear boundaries of the \n",
    "        linear membership function\n",
    "    \n",
    "    positive slope:\n",
    "\n",
    "        \n",
    "    Returns\n",
    "    -------\n",
    "        The fuzzified value from the crisp input\n",
    "    \"\"\"\n",
    "    \n",
    "    \n",
    "    assert len(vector) == 2, \"The vector must of of length 2\"\n",
    "    \n",
    "    a, b = vector\n",
    "    assert a<=b, \"a must be less than or equal to be\"\n",
    "    \n",
    "    if positive_slope:\n",
    "       if val < a:\n",
    "           return 0\n",
    "       elif val > b:\n",
    "           return 1\n",
    "       else:\n",
    "           return (val - a)/(b - a)\n",
    "    else:\n",
    "       if val < a:\n",
    "           return 1\n",
    "       elif val > b:\n",
    "           return 0\n",
    "       else:\n",
    "           return (b - val)/(b - a) "
   ]
  },
  {
   "cell_type": "code",
   "execution_count": null,
   "metadata": {},
   "outputs": [],
   "source": []
  }
 ],
 "metadata": {
  "kernelspec": {
   "display_name": "venv",
   "language": "python",
   "name": "python3"
  },
  "language_info": {
   "codemirror_mode": {
    "name": "ipython",
    "version": 3
   },
   "file_extension": ".py",
   "mimetype": "text/x-python",
   "name": "python",
   "nbconvert_exporter": "python",
   "pygments_lexer": "ipython3",
   "version": "3.9.13"
  }
 },
 "nbformat": 4,
 "nbformat_minor": 2
}
