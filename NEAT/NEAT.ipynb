{
 "cells": [
  {
   "cell_type": "markdown",
   "metadata": {},
   "source": [
    "# Application of Neuroevolution of Augmenting Topologies (NEAT) in the XOR problem\n",
    "\n",
    "This notebook explores the applicaiton of Neuroevolution of Augmenting Topologies (NEAT) in the XOR problem.\n",
    "\n",
    "XOR Logic Table\n",
    "\n",
    "Input: [0,0] <br>\n",
    "Output: 0 <br> <br>\n",
    "Input: [1,0] <br>\n",
    "Output: 1 <br> <br>\n",
    "Input: [0,1] <br>\n",
    "Output: 1 <br> <br>\n",
    "Input: [1,1] <br>\n",
    "Output: 0\n",
    "\n"
   ]
  },
  {
   "cell_type": "code",
   "execution_count": null,
   "metadata": {},
   "outputs": [],
   "source": []
  }
 ],
 "metadata": {
  "language_info": {
   "name": "python"
  }
 },
 "nbformat": 4,
 "nbformat_minor": 2
}
