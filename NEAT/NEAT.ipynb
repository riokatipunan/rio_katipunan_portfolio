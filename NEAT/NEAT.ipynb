{
 "cells": [
  {
   "cell_type": "markdown",
   "metadata": {},
   "source": [
    "# Application of Neuroevolution of Augmenting Topologies (NEAT) in the XOR problem\n",
    "\n",
    "This notebook explores the applicaiton of Neuroevolution of Augmenting Topologies (NEAT) in the XOR problem"
   ]
  },
  {
   "cell_type": "code",
   "execution_count": null,
   "metadata": {},
   "outputs": [],
   "source": []
  }
 ],
 "metadata": {
  "language_info": {
   "name": "python"
  }
 },
 "nbformat": 4,
 "nbformat_minor": 2
}
