{
 "cells": [
  {
   "cell_type": "markdown",
   "metadata": {},
   "source": [
    "# Using NEAT for XOR Solver Optimization\n",
    "\n",
    "This notebook explores the application of Neuroevolution of Augmenting Topologies (NEAT) as an XOR solver."
   ]
  },
  {
   "cell_type": "code",
   "execution_count": 2,
   "metadata": {},
   "outputs": [],
   "source": [
    "# impor the standard library and the NEAT python library\n",
    "import os\n",
    "import neat\n",
    "import visualize"
   ]
  },
  {
   "cell_type": "code",
   "execution_count": 3,
   "metadata": {},
   "outputs": [],
   "source": [
    "# The XOR inputs and expected corresponding outputs for fitness evaluation\n",
    "xor_inputs = [(0.0, 0.0),\n",
    "              (0.0, 1.0),\n",
    "              (1.0, 0.0),\n",
    "              (1.0, 1.0)]\n",
    "xor_outputs = [(0.0),\n",
    "               (1.0),\n",
    "               (1.0),\n",
    "               (0.0)]"
   ]
  },
  {
   "cell_type": "code",
   "execution_count": 5,
   "metadata": {},
   "outputs": [],
   "source": [
    "def eval_fitness(net) -> int:\n",
    "    \"\"\"\n",
    "    Evaluate fitness of the genome that was used to \n",
    "    generate provided net\n",
    "\n",
    "    Arguments:\n",
    "        net:\n",
    "            The feed-forward neural network generated from genome\n",
    "    \n",
    "    Returns:\n",
    "        fitness:int\n",
    "            The fitness score - the higher score the means \n",
    "            the better fit organism. Maximal score: 16.0\n",
    "    \"\"\"\n",
    "    # initialize error_sum\n",
    "    error_sum = 0.0\n",
    "\n",
    "    # loop through the list of xor inputs and outputs and check the model's performance\n",
    "    for xi, xo in zip(xor_inputs, xor_outputs):\n",
    "        output = net.activate(xi)\n",
    "        error_sum += abs(xo[0]-output[0])\n",
    "\n",
    "    # functional implementation of the above code\n",
    "    # outputs = map(net.activate, xor_inputs)\n",
    "    # errors = map(lambda x, y: abs(x-y), xor_outputs, outputs)\n",
    "    # error_sum = sum(errors)\n",
    "\n",
    "\n",
    "    # calculate amplified fitness\n",
    "    fitness = (4- error_sum)**2\n",
    "\n",
    "    return fitness"
   ]
  },
  {
   "cell_type": "code",
   "execution_count": 6,
   "metadata": {},
   "outputs": [],
   "source": [
    "def eval_genomes(genomes, config) -> None:\n",
    "    \"\"\"\n",
    "    The function to evaluate the fitnes of each genome in the genome list.\n",
    "\n",
    "    The provided configuration is used to create feed-forward neural \n",
    "    network from each genome and after that created the neural network \n",
    "    evaluated in its ability to solve XOR problem. As a result of this \n",
    "    function execution, the fitness score of each genome updated to the\n",
    "    newly evaluated one.\n",
    "\n",
    "    Arguments:\n",
    "        genomes:\n",
    "            the list of genomes from population in the current generation\n",
    "\n",
    "        config:\n",
    "            the configuration settings with algorithm hyper-parameters\n",
    "\n",
    "    Returns:\n",
    "        None\n",
    "    \"\"\"\n",
    "\n",
    "    for genome_id, genome in genomes:\n",
    "        genome.fitness = 4.0\n",
    "        net = neat.nn.FeedForwardNetwork.create(genome, config)\n",
    "        genome.fitness = eval_fitness"
   ]
  },
  {
   "cell_type": "code",
   "execution_count": null,
   "metadata": {},
   "outputs": [],
   "source": [
    "# load configuration\n",
    "config = neat.Config(neat.DefaultGenome,\n",
    "                     neat.DefaultReproduction,\n",
    "                     neat.DefaultSpeciesSet,\n",
    "                     neat.DefaultStagnation,\n",
    "                     config_file)"
   ]
  }
 ],
 "metadata": {
  "kernelspec": {
   "display_name": "venv",
   "language": "python",
   "name": "python3"
  },
  "language_info": {
   "codemirror_mode": {
    "name": "ipython",
    "version": 3
   },
   "file_extension": ".py",
   "mimetype": "text/x-python",
   "name": "python",
   "nbconvert_exporter": "python",
   "pygments_lexer": "ipython3",
   "version": "3.11.6"
  }
 },
 "nbformat": 4,
 "nbformat_minor": 2
}
