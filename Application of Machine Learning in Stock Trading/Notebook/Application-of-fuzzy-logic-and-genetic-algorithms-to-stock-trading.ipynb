{
 "cells": [
  {
   "cell_type": "markdown",
   "metadata": {},
   "source": [
    "# Application of Fuzzy logic and Genetic Algorithms in Stock Trading\n",
    "\n",
    "This notebook explores the application of genetic algorithms in optimizing the fuzzy rules as applied in technical analysis of stocks."
   ]
  },
  {
   "cell_type": "code",
   "execution_count": null,
   "metadata": {},
   "outputs": [],
   "source": []
  }
 ],
 "metadata": {
  "language_info": {
   "name": "python"
  }
 },
 "nbformat": 4,
 "nbformat_minor": 2
}
