{
 "cells": [
  {
   "cell_type": "code",
   "execution_count": 1,
   "metadata": {},
   "outputs": [],
   "source": [
    "import numpy as np\n",
    "from network import Network\n",
    "from fc_layer import FCLayer\n",
    "from activation_layer import ActivationLayer\n",
    "from activation_function import tanh, tanh_prime, soft_max\n",
    "from loss_function import mse, mse_prime\n",
    "from copy import deepcopy\n",
    "import random\n",
    "from typing import List, Tuple\n",
    "from crossover import crossover\n",
    "from mutation import mutate\n",
    "from mate import mate\n",
    "import pandas as pd\n",
    "import matplotlib.pyplot as plt\n",
    "from helper_module import split_train_set, split_train_test_sets\n",
    "\n",
    "\n",
    "# training data\n",
    "x_train = np.array([[[0,0]], [[0,1]], [[1,0]], [[1,1]]])\n",
    "y_train = np.array([[[0]], [[1]], [[1]], [[0]]])\n",
    "\n",
    "# network\n",
    "# net = Network()\n",
    "# net.add(FCLayer(2, 3))\n",
    "# net.add(ActivationLayer(tanh, tanh_prime))\n",
    "# net.add(FCLayer(3, 1))\n",
    "# net.add(ActivationLayer(tanh, tanh_prime))\n",
    "\n",
    "# # train\n",
    "# net.use(mse, mse_prime)\n",
    "# net.fit(x_train, y_train, epochs=1000, learning_rate=0.1)\n",
    "# # test\n",
    "# out = net.predict(x_train)\n",
    "# print(out)"
   ]
  },
  {
   "cell_type": "code",
   "execution_count": null,
   "metadata": {},
   "outputs": [],
   "source": [
    "# read and print sample historical stock price data\n",
    "series = pd.read_csv('../../Data/PH-historical-stock-price-data-csv/GLO.csv', header = 0, index_col = 'Date')\n",
    "print(series)\n",
    "\n",
    "# plot historical stock price data\n",
    "fig, ax = plt.subplots()    \n",
    "ax.set_title('GLO closing prices')\n",
    "ax.set_xlabel('Date')\n",
    "ax.set_ylabel('Price (Pesos)')\n",
    "ax.plot(series['Close'].tail(60))\n",
    "ax.set_xticks(ax.get_xticks()[::13])\n",
    "plt.show()"
   ]
  },
  {
   "cell_type": "code",
   "execution_count": null,
   "metadata": {},
   "outputs": [],
   "source": [
    "# split data into train and test sets\n",
    "train, test = split_train_test_sets(series)\n",
    "\n",
    "# plot the train and test sets\n",
    "fig, ax = plt.subplots()    \n",
    "ax.set_title('GLO closing prices')\n",
    "ax.set_xlabel('Date')\n",
    "ax.set_ylabel('Price (Pesos)')\n",
    "ax.plot(train['Close'], 'g')\n",
    "ax.plot(test['Close'], 'r')\n",
    "ax.set_xticks(ax.get_xticks()[::2000])\n",
    "plt.show()"
   ]
  },
  {
   "cell_type": "code",
   "execution_count": null,
   "metadata": {},
   "outputs": [],
   "source": [
    "# split the train set into multiple batches\n",
    "train_set = split_train_set(train)\n",
    "\n",
    "# plot a sample of the train set\n",
    "fig, ax = plt.subplots()    \n",
    "ax.set_title('GLO closing prices')\n",
    "ax.set_xlabel('Date')\n",
    "ax.set_ylabel('Price (Pesos)')\n",
    "ax.plot(train_set[1]['Close'], 'g')\n",
    "ax.set_xticks(ax.get_xticks()[::100])\n",
    "plt.show()"
   ]
  },
  {
   "cell_type": "code",
   "execution_count": 2,
   "metadata": {},
   "outputs": [],
   "source": [
    "# network\n",
    "net = Network()\n",
    "net.add(FCLayer(150, 150))\n",
    "net.add(ActivationLayer(tanh, tanh_prime))\n",
    "net.add(FCLayer(150, 150))\n",
    "net.add(ActivationLayer(tanh, tanh_prime))\n",
    "net.add(FCLayer(150, 150))\n",
    "net.add(ActivationLayer(tanh, tanh_prime))\n",
    "net.add(FCLayer(150, 150))\n",
    "net.add(ActivationLayer(tanh, tanh_prime))\n",
    "net.add(FCLayer(150, 150))\n",
    "net.add(ActivationLayer(tanh, tanh_prime))\n",
    "net.add(FCLayer(150, 150))\n",
    "net.add(ActivationLayer(tanh, tanh_prime))\n",
    "net.add(FCLayer(150, 150))\n",
    "net.add(ActivationLayer(tanh, tanh_prime))\n",
    "net.add(FCLayer(150, 150))\n",
    "net.add(ActivationLayer(tanh, tanh_prime))\n",
    "net.add(FCLayer(150, 150))\n",
    "net.add(ActivationLayer(tanh, tanh_prime))\n",
    "net.add(FCLayer(150, 3))\n",
    "net.add(ActivationLayer(soft_max))"
   ]
  },
  {
   "cell_type": "code",
   "execution_count": 3,
   "metadata": {},
   "outputs": [],
   "source": [
    "def flatten_NN(NN: Network):\n",
    "    \n",
    "    # initialize some variables\n",
    "    flat_NN = np.array([])\n",
    "    num_layers: int = 0\n",
    "    NN_layer_dims: List[Tuple[int, int]] = list(tuple())\n",
    "    \n",
    "    # loop through all the layers in the network\n",
    "    for layer in net.layers:\n",
    "        if isinstance(layer, FCLayer):\n",
    "            # NN_layer_dims.append(tuple(int(dim)) for dim in np.shape(layer.weights)))\n",
    "            NN_layer_dims.append(np.shape(layer.weights))\n",
    "            flat_NN = np.append(flat_NN, layer.weights.flatten())\n",
    "            flat_NN = np.append(flat_NN, layer.bias.flatten())\n",
    "            num_layers += 1\n",
    "    \n",
    "    return flat_NN, num_layers, NN_layer_dims"
   ]
  },
  {
   "cell_type": "code",
   "execution_count": 4,
   "metadata": {},
   "outputs": [],
   "source": [
    "def reconstruct_NN(flat_NN, num_layers, NN_layer_dims) -> Network:\n",
    "    elems_taken = 0\n",
    "    NN = Network()\n",
    "    for layer_id, NN_layer_dim in zip(range(num_layers), NN_layer_dims):\n",
    "        \n",
    "        # instatiate variables\n",
    "        rows, columns = NN_layer_dim\n",
    "        fc_layer = FCLayer(rows, columns)\n",
    "        layer_num_elems = rows*columns\n",
    "        \n",
    "        # get the weigths for the FC layer\n",
    "        layer_weights_elems = flat_NN[elems_taken:elems_taken+layer_num_elems]\n",
    "        elems_taken += layer_num_elems\n",
    "        fc_layer.weights = np.reshape(layer_weights_elems, (rows, columns))\n",
    "        \n",
    "        # get the biases for the FC layer\n",
    "        layer_bias_elems = flat_NN[elems_taken:elems_taken+columns]\n",
    "        elems_taken += columns\n",
    "        fc_layer.bias = np.reshape(layer_bias_elems, (1, columns))\n",
    "        \n",
    "        NN.add(fc_layer)\n",
    "        \n",
    "        if layer_id == num_layers-1:\n",
    "            NN.add(ActivationLayer(soft_max)) \n",
    "        else:\n",
    "            NN.add(ActivationLayer(tanh, tanh_prime))   \n",
    "        \n",
    "    return NN"
   ]
  },
  {
   "cell_type": "code",
   "execution_count": 5,
   "metadata": {},
   "outputs": [],
   "source": [
    "test_flat_NN, test_num_layers, test_NN_layers_dims = flatten_NN(net)\n",
    "test_reconstructed_NN = reconstruct_NN(flat_NN = test_flat_NN, num_layers = test_num_layers, NN_layer_dims = test_NN_layers_dims)"
   ]
  },
  {
   "cell_type": "code",
   "execution_count": 6,
   "metadata": {},
   "outputs": [],
   "source": [
    "# for orig_NN_layer, recon_NN_layer in zip(net.layers, test_reconstructed_NN.layers):\n",
    "#     if isinstance(orig_NN_layer, FCLayer) and isinstance(recon_NN_layer, FCLayer):\n",
    "#         print(orig_NN_layer.weights == recon_NN_layer.weights)"
   ]
  },
  {
   "cell_type": "code",
   "execution_count": 7,
   "metadata": {},
   "outputs": [],
   "source": [
    "test_sample = np.zeros([1,150])\n",
    "for i in range(150):\n",
    "    test_sample[0][i] = np.random.uniform(-10,10)"
   ]
  },
  {
   "cell_type": "code",
   "execution_count": 8,
   "metadata": {},
   "outputs": [
    {
     "name": "stdout",
     "output_type": "stream",
     "text": [
      "[array([[0.09169166, 0.0599223 , 0.84838604]])]\n",
      "[array([[0.09169166, 0.0599223 , 0.84838604]])]\n"
     ]
    }
   ],
   "source": [
    "print(net.predict(test_sample))\n",
    "print(test_reconstructed_NN.predict(test_sample))"
   ]
  },
  {
   "cell_type": "code",
   "execution_count": 9,
   "metadata": {},
   "outputs": [
    {
     "name": "stdout",
     "output_type": "stream",
     "text": [
      "<class 'int'> <class 'int'>\n"
     ]
    }
   ],
   "source": [
    "test_array = np.zeros((5,5))\n",
    "test_tuple = np.shape(test_array)\n",
    "x, y = test_tuple\n",
    "print(type(x), type(y))"
   ]
  },
  {
   "cell_type": "code",
   "execution_count": 10,
   "metadata": {},
   "outputs": [],
   "source": [
    "test_offspring1, test_offspring2 = crossover(test_flat_NN, test_flat_NN)"
   ]
  },
  {
   "cell_type": "code",
   "execution_count": 11,
   "metadata": {},
   "outputs": [],
   "source": [
    "reconstructed_offspring1 = reconstruct_NN(flat_NN = test_offspring1, num_layers = test_num_layers, NN_layer_dims = test_NN_layers_dims)\n",
    "reconstructed_offspring2 = reconstruct_NN(flat_NN = test_offspring2, num_layers = test_num_layers, NN_layer_dims = test_NN_layers_dims)"
   ]
  },
  {
   "cell_type": "code",
   "execution_count": 12,
   "metadata": {},
   "outputs": [
    {
     "name": "stdout",
     "output_type": "stream",
     "text": [
      "<network.Network object at 0x00000188FF4D6BD0>\n"
     ]
    }
   ],
   "source": [
    "print(reconstructed_offspring1)"
   ]
  },
  {
   "cell_type": "code",
   "execution_count": 13,
   "metadata": {},
   "outputs": [],
   "source": [
    "mutated_offspring = mutate(test_offspring1)"
   ]
  },
  {
   "cell_type": "code",
   "execution_count": 14,
   "metadata": {},
   "outputs": [
    {
     "name": "stdout",
     "output_type": "stream",
     "text": [
      "[ 0.09798846  0.13366966  0.30504472 ...  0.02362918 -0.26718814\n",
      " -0.10403652]\n"
     ]
    }
   ],
   "source": [
    "print(mutated_offspring)"
   ]
  },
  {
   "cell_type": "code",
   "execution_count": 15,
   "metadata": {},
   "outputs": [
    {
     "name": "stdout",
     "output_type": "stream",
     "text": [
      "0\n",
      "1\n",
      "2\n",
      "3\n",
      "4\n",
      "5\n",
      "6\n",
      "7\n",
      "8\n",
      "9\n",
      "10\n",
      "11\n",
      "12\n",
      "13\n",
      "14\n",
      "15\n",
      "16\n",
      "17\n",
      "18\n",
      "19\n",
      "20\n",
      "21\n",
      "22\n",
      "23\n",
      "24\n",
      "25\n",
      "26\n",
      "27\n",
      "28\n",
      "29\n",
      "30\n",
      "31\n",
      "32\n",
      "33\n",
      "34\n",
      "35\n",
      "36\n",
      "37\n",
      "38\n",
      "39\n",
      "40\n",
      "41\n",
      "42\n",
      "43\n",
      "44\n",
      "45\n",
      "46\n",
      "47\n",
      "48\n",
      "49\n",
      "50\n",
      "51\n",
      "52\n",
      "53\n",
      "54\n",
      "55\n",
      "56\n",
      "57\n",
      "58\n",
      "59\n",
      "60\n",
      "61\n",
      "62\n",
      "63\n",
      "64\n",
      "65\n",
      "66\n",
      "67\n",
      "68\n",
      "69\n",
      "70\n",
      "71\n",
      "72\n",
      "73\n",
      "74\n",
      "75\n",
      "76\n",
      "77\n",
      "78\n",
      "79\n",
      "80\n",
      "81\n",
      "82\n",
      "83\n",
      "84\n",
      "85\n",
      "86\n",
      "87\n",
      "88\n",
      "89\n",
      "90\n",
      "91\n",
      "92\n",
      "93\n",
      "94\n",
      "95\n",
      "96\n",
      "97\n",
      "98\n",
      "99\n"
     ]
    }
   ],
   "source": [
    "for i in range(100):\n",
    "    print(i)\n",
    "    test_offspring1, test_offspring2 = mate(test_flat_NN, test_flat_NN)"
   ]
  }
 ],
 "metadata": {
  "kernelspec": {
   "display_name": "venv",
   "language": "python",
   "name": "python3"
  },
  "language_info": {
   "codemirror_mode": {
    "name": "ipython",
    "version": 3
   },
   "file_extension": ".py",
   "mimetype": "text/x-python",
   "name": "python",
   "nbconvert_exporter": "python",
   "pygments_lexer": "ipython3",
   "version": "3.12.2"
  }
 },
 "nbformat": 4,
 "nbformat_minor": 2
}
