{
 "cells": [
  {
   "cell_type": "markdown",
   "metadata": {},
   "source": [
    "# Application of Genetic Algorithm and Neural Networks in Solving the XOR Problem\n",
    "\n",
    "This notebook explores the application of genetic algorithm and neural networks in solving the XOR problem.\n",
    "\n",
    "The XOR gate has the following logic table\n",
    "\n",
    "Input: (0,0) -> Output: 0\n",
    "\n",
    "Input: (1,0) -> Output: 1\n",
    "\n",
    "Input: (0,1) -> Output: 1\n",
    "\n",
    "Input: (1,1) -> Output: 0\n",
    "\n",
    "The topology of the neural network is described below\n",
    "\n",
    "input layer (2 nodes) -> hidden layer 1 (3 nodes) -> hidden layer 2 (2 nodes) -> output layer (1 node)"
   ]
  },
  {
   "cell_type": "code",
   "execution_count": 1,
   "metadata": {},
   "outputs": [],
   "source": [
    "# import libraries\n",
    "import math\n",
    "import copy\n",
    "import random\n",
    "import warnings\n",
    "warnings.filterwarnings('ignore')\n",
    "import pandas as pd\n",
    "import numpy as np\n",
    "import matplotlib.pyplot as plt\n",
    "from helper_module import split_train_test_sets, split_train_set\n",
    "from typing import Tuple, Iterable, NewType"
   ]
  },
  {
   "cell_type": "code",
   "execution_count": 2,
   "metadata": {},
   "outputs": [],
   "source": [
    "# instantiate the train set\n",
    "x = ((0,0),(1,0),(0,1),(1,1))\n",
    "y = (0,1,1,0)"
   ]
  },
  {
   "cell_type": "code",
   "execution_count": 3,
   "metadata": {},
   "outputs": [],
   "source": [
    "# define the sigmoid activation function\n",
    "def sigmoid(z:float) -> float:\n",
    "    return 1/(1 + np.exp(-z))"
   ]
  },
  {
   "cell_type": "code",
   "execution_count": 4,
   "metadata": {},
   "outputs": [],
   "source": [
    "# define the neural network classs\n",
    "class NN():\n",
    "    def __init__(self):\n",
    "        self.W_layer1: np.ndarray\n",
    "        self.W_layer2: np.ndarray\n",
    "        self.W_layer3: np.ndarray\n",
    "        self.b_layer1: np.ndarray\n",
    "        self.b_layer2: np.ndarray\n",
    "        self.b_layer3: np.ndarray\n",
    "        self.fitness: float\n",
    "\n",
    "    def __str__(self):\n",
    "        text = str()\n",
    "        text = text + f'{self.W_layer1}'\n",
    "        text = text + f'{self.W_layer2}'\n",
    "        text = text + f'{self.W_layer3}'\n",
    "        text = text + f'{self.b_layer1}'\n",
    "        text = text + f'{self.b_layer2}'\n",
    "        text = text + f'{self.b_layer3}'\n",
    "        return text"
   ]
  },
  {
   "cell_type": "code",
   "execution_count": 5,
   "metadata": {},
   "outputs": [],
   "source": [
    "from functools import reduce\n",
    "\n",
    "# define a function that normalizes a vector\n",
    "def normalize_vector(x:np.ndarray) -> np.ndarray:\n",
    "    vector_magnitude_list = list()\n",
    "    vector_magnitude_list = [math.sqrt(i**2) for i in x]\n",
    "    vector_len = reduce(lambda x, y: x+y, vector_magnitude_list)\n",
    "    normalized_vector = np.array([(i/vector_len) for i in x])\n",
    "\n",
    "    return normalized_vector"
   ]
  },
  {
   "cell_type": "code",
   "execution_count": 6,
   "metadata": {},
   "outputs": [],
   "source": [
    "def evaluate_fitness(x:Tuple[Tuple[int]], y: Tuple[int], nn:NN) -> float:\n",
    "    # initialize the fitness score to zero\n",
    "    fitness = 0\n",
    "\n",
    "    # loop through all the training data\n",
    "    # and apply forward propagation of NN\n",
    "    for (x1, x2), y1 in zip(x, y):\n",
    "        input_layer = np.array([[x1],[x2]])\n",
    "        Z1 = np.add(np.matmul(nn.W_layer1, input_layer), nn.b_layer1)\n",
    "        A1 = np.array([sigmoid(i) for i in Z1])\n",
    "        A1 = normalize_vector(A1)\n",
    "        Z2 = np.add(np.matmul(nn.W_layer2, A1), nn.b_layer2)\n",
    "        A2 = np.array([sigmoid(i) for i in Z2])\n",
    "        A2 = normalize_vector(A2)\n",
    "        Z3 = np.add(np.matmul(nn.W_layer3, A2), nn.b_layer3)\n",
    "        A3 = sigmoid(Z3)\n",
    "        \n",
    "        # perform binary classification\n",
    "        if A3 > 0.5:\n",
    "            y_pred = 1\n",
    "        else:\n",
    "            y_pred = 0\n",
    "\n",
    "        # compute fitness\n",
    "        fitness += math.sqrt((y1 - y_pred)**2)\n",
    "\n",
    "    return fitness"
   ]
  },
  {
   "cell_type": "code",
   "execution_count": 7,
   "metadata": {},
   "outputs": [],
   "source": [
    "def init_NN() -> NN:\n",
    "    # instantiate NN object\n",
    "    nn = NN()\n",
    "\n",
    "    # instantiate the weight matrixes\n",
    "    nn.W_layer1 = np.random.uniform(-10, 10, size=(3,2))\n",
    "    nn.W_layer2 = np.random.uniform(-10, 10, size=(2,3))\n",
    "    nn.W_layer3 = np.random.uniform(-10, 10, size=(1,2))\n",
    "    \n",
    "    # instantiate the bias vectors\n",
    "    nn.b_layer1 = np.random.uniform(-10, 10, size=(3,1))\n",
    "    nn.b_layer2 = np.random.uniform(-10, 10, size=(2,1))\n",
    "    nn.b_layer3 = np.random.uniform(-10, 10, size=(1,1))\n",
    "\n",
    "    return nn"
   ]
  },
  {
   "cell_type": "code",
   "execution_count": 8,
   "metadata": {},
   "outputs": [],
   "source": [
    "def flatten_NN(nn:NN) -> np.ndarray:\n",
    "    flat_nn = np.array([])\n",
    "    flat_nn = np.append(flat_nn, nn.W_layer1.flatten())\n",
    "    flat_nn = np.append(flat_nn, nn.W_layer2.flatten())\n",
    "    flat_nn = np.append(flat_nn, nn.W_layer3.flatten())\n",
    "    flat_nn = np.append(flat_nn, nn.b_layer1.flatten())\n",
    "    flat_nn = np.append(flat_nn, nn.b_layer2.flatten())\n",
    "    flat_nn = np.append(flat_nn, nn.b_layer3.flatten())\n",
    "\n",
    "    return flat_nn"
   ]
  },
  {
   "cell_type": "code",
   "execution_count": 9,
   "metadata": {},
   "outputs": [],
   "source": [
    "def create_NN(flat_nn) -> NN:\n",
    "    new_nn = NN()\n",
    "    W_layer_1 = np.empty((3,2))\n",
    "    W_layer_2 = np.empty((2,3))\n",
    "    W_layer_3 = np.empty((1,2))\n",
    "\n",
    "    b_layer_1 = np.empty((3,1))\n",
    "    b_layer_2 = np.empty((2,1))\n",
    "    b_layer_3 = np.empty((1,1))\n",
    "\n",
    "    W_layer_1[0][0] = flat_nn[0] \n",
    "    W_layer_1[0][1] = flat_nn[1] \n",
    "    W_layer_1[1][0] = flat_nn[2] \n",
    "    W_layer_1[1][1] = flat_nn[3] \n",
    "    W_layer_1[2][0] = flat_nn[4] \n",
    "    W_layer_1[2][1] = flat_nn[5] \n",
    "\n",
    "    W_layer_2[0][0] = flat_nn[6] \n",
    "    W_layer_2[0][1] = flat_nn[7] \n",
    "    W_layer_2[0][2] = flat_nn[8]\n",
    "    W_layer_2[1][0] = flat_nn[9] \n",
    "    W_layer_2[1][1] = flat_nn[10]\n",
    "    W_layer_2[1][2] = flat_nn[11]\n",
    "\n",
    "    W_layer_3[0][0] = flat_nn[12] \n",
    "    W_layer_3[0][1] = flat_nn[13] \n",
    "\n",
    "    b_layer_1[0] = flat_nn[14] \n",
    "    b_layer_1[1] = flat_nn[15] \n",
    "    b_layer_1[2] = flat_nn[16] \n",
    "\n",
    "    b_layer_2[0] = flat_nn[17] \n",
    "    b_layer_2[1] = flat_nn[18] \n",
    "\n",
    "    b_layer_3[0] = flat_nn[19] \n",
    "    \n",
    "    new_nn = NN()\n",
    "    new_nn.W_layer1 = W_layer_1\n",
    "    new_nn.W_layer2 = W_layer_2\n",
    "    new_nn.W_layer3 = W_layer_3\n",
    "    new_nn.b_layer1 = b_layer_1\n",
    "    new_nn.b_layer2 = b_layer_2\n",
    "    new_nn.b_layer3 = b_layer_3\n",
    "\n",
    "    return new_nn"
   ]
  },
  {
   "cell_type": "code",
   "execution_count": 10,
   "metadata": {},
   "outputs": [],
   "source": [
    "# perform uniform crossover\n",
    "def crossover(flat_nn1, flat_nn2):\n",
    "    # instantiate the offsprings as lists\n",
    "    offspring1 = list()\n",
    "    offspring2 = list()\n",
    "\n",
    "    # loop through the nodes of the boths NNs\n",
    "    # and perform uniform crossover\n",
    "    for nn1_node, nn2_node in zip(flat_nn1, flat_nn2):\n",
    "        if random.uniform(0,1) >=0.5:\n",
    "            offspring1.append(nn1_node)\n",
    "            offspring2.append(nn2_node)\n",
    "        else:\n",
    "            offspring1.append(nn2_node)\n",
    "            offspring2.append(nn1_node)\n",
    "    \n",
    "    # instatiate the offsprings as genomes\n",
    "    offspring1 = np.array(offspring1)\n",
    "    offspring2 = np.array(offspring2)\n",
    "\n",
    "    return offspring1, offspring2"
   ]
  },
  {
   "cell_type": "code",
   "execution_count": 11,
   "metadata": {},
   "outputs": [],
   "source": [
    "# perform mutation\n",
    "def mutate(flat_nn, mutation_rate: float = 0.1):\n",
    "\n",
    "    new_flat_nn = copy.deepcopy(flat_nn)\n",
    "    for idx, _ in enumerate(flat_nn):\n",
    "        if np.random.uniform(0,1) > (1 - mutation_rate):\n",
    "            new_flat_nn[idx] = np.random.uniform(-10, 10)\n",
    "        else:\n",
    "            new_flat_nn[idx] = copy.deepcopy(flat_nn[idx])\n",
    "    \n",
    "    return new_flat_nn"
   ]
  },
  {
   "cell_type": "code",
   "execution_count": 12,
   "metadata": {},
   "outputs": [],
   "source": [
    "def reproduce(nn1, nn2):\n",
    "    flat_nn1 = flatten_NN(nn1)\n",
    "    flat_nn2 = flatten_NN(nn2)\n",
    "    offspring1, offspring2 = crossover(flat_nn1, flat_nn2)\n",
    "    offspring1 = mutate(offspring1)\n",
    "    offspring2 = mutate(offspring2)\n",
    "    offspring1 = create_NN(offspring1)\n",
    "    offspring2 = create_NN(offspring2)\n",
    "\n",
    "    return offspring1, offspring2"
   ]
  },
  {
   "cell_type": "code",
   "execution_count": 13,
   "metadata": {},
   "outputs": [],
   "source": [
    "def init_population(num_individuals:int) -> Iterable[NN]:\n",
    "    population = list()\n",
    "    for i in range(num_individuals):\n",
    "        population.append(init_NN())\n",
    "\n",
    "    return population"
   ]
  },
  {
   "cell_type": "code",
   "execution_count": 14,
   "metadata": {},
   "outputs": [],
   "source": [
    "def keep_elites(percentage_elites:float, population: Iterable[NN]):    \n",
    "    sorted_population = sorted(population, key=lambda x: x.fitness, reverse=False)\n",
    "    elite_population = list()\n",
    "    num_elites = math.floor(percentage_elites * len(population))\n",
    "    sorted_population = sorted(population, key=lambda x: x.fitness, reverse=False)\n",
    "    elite_population = sorted_population[:num_elites:]\n",
    "\n",
    "    return elite_population"
   ]
  },
  {
   "cell_type": "code",
   "execution_count": 15,
   "metadata": {},
   "outputs": [],
   "source": [
    "# implement tournament selection\n",
    "def selection(population: Iterable[NN]):\n",
    "    random.shuffle(population)\n",
    "    selected_population = list()\n",
    "    left_bracket = population[:math.floor(len(population)/2):]\n",
    "    right_bracket = population[math.floor(len(population)/2)::]\n",
    "\n",
    "    for left_nn, right_nn in zip(left_bracket, right_bracket):\n",
    "        if left_nn.fitness < right_nn.fitness:\n",
    "            selected_population.append(left_nn)\n",
    "        else:\n",
    "            selected_population.append(right_nn)\n",
    "\n",
    "    return selected_population"
   ]
  },
  {
   "cell_type": "code",
   "execution_count": 16,
   "metadata": {},
   "outputs": [],
   "source": [
    "def reproduce_population(population: Iterable[NN]) -> Iterable[NN]:\n",
    "    new_population = list()\n",
    "    offspring_population = list()\n",
    "    left_bracket = population[:math.floor(len(population)/2):]\n",
    "    right_bracket = population[math.floor(len(population)/2)::]\n",
    "\n",
    "    for left_nn, right_nn in zip(left_bracket, right_bracket):\n",
    "        offsprin1, offspring2 = reproduce(left_nn, right_nn)\n",
    "        offspring_population.append(offsprin1)\n",
    "        offspring_population.append(offspring2)\n",
    "\n",
    "    new_population = population + offspring_population\n",
    "\n",
    "    return new_population"
   ]
  },
  {
   "cell_type": "code",
   "execution_count": 17,
   "metadata": {},
   "outputs": [],
   "source": [
    "def reduce_population(population:Iterable[NN], remove_percentage:float):\n",
    "    new_population = population[:-math.floor(len(population)*remove_percentage):]\n",
    "\n",
    "    return new_population"
   ]
  },
  {
   "cell_type": "code",
   "execution_count": 18,
   "metadata": {},
   "outputs": [],
   "source": [
    "def run_evolution(population: Iterable[NN], num_generations:int):\n",
    "    for _ in range(num_generations):\n",
    "        # compute the fitness of each NN\n",
    "        for individual in population:\n",
    "            individual.fitness = evaluate_fitness(x, y, individual)\n",
    "\n",
    "        # keep the elites in the population\n",
    "        elites = keep_elites(percentage_elites = 0.1, population = population)\n",
    "\n",
    "        # select the NNs to keep\n",
    "        selected = selection(population)\n",
    "\n",
    "        # join the elites and selected NNs\n",
    "        new_population = elites + selected\n",
    "\n",
    "        # reproduce the population\n",
    "        new_population = reproduce_population(population=new_population)\n",
    "\n",
    "        # trim the population\n",
    "        new_population = reduce_population(population=new_population, remove_percentage=0.17)\n",
    "\n",
    "        # assign new population to the old population \n",
    "        population = new_population\n",
    "\n",
    "    return population"
   ]
  },
  {
   "cell_type": "code",
   "execution_count": 19,
   "metadata": {},
   "outputs": [],
   "source": [
    "NUM_GENERATIONS = 100\n",
    "population = init_population(num_individuals=100)\n",
    "\n",
    "if __name__ == \"__main__\":\n",
    "    population = run_evolution(population=population, num_generations=NUM_GENERATIONS)"
   ]
  },
  {
   "cell_type": "code",
   "execution_count": 20,
   "metadata": {},
   "outputs": [],
   "source": [
    "for individual in population:\n",
    "    individual.fitness = evaluate_fitness(x, y, individual)"
   ]
  },
  {
   "cell_type": "code",
   "execution_count": 21,
   "metadata": {},
   "outputs": [
    {
     "name": "stdout",
     "output_type": "stream",
     "text": [
      "[[ 6.47896424  9.63355019]\n",
      " [ 9.69587566 -7.1825288 ]\n",
      " [-7.27831874  5.72926788]][[ 7.05052464  8.55239276 -2.22760167]\n",
      " [-6.31290666  6.38075773  7.42199817]][[1.11385709 9.15266254]][[ 5.66176621]\n",
      " [-9.83792108]\n",
      " [-6.87958631]][[6.70010708]\n",
      " [4.39449772]][[-3.83188627]]\n"
     ]
    }
   ],
   "source": [
    "best_nn = population[0]\n",
    "print(best_nn)"
   ]
  },
  {
   "cell_type": "code",
   "execution_count": 22,
   "metadata": {},
   "outputs": [],
   "source": [
    "def test_performance(x:Tuple[Tuple[int]], y: Tuple[int], nn:NN) -> None:\n",
    "    \n",
    "    for (x1, x2), y1 in zip(x, y):\n",
    "        input_layer = np.array([[x1],[x2]])\n",
    "        Z1 = np.add(np.matmul(nn.W_layer1, input_layer), nn.b_layer1)\n",
    "        A1 = np.array([sigmoid(i) for i in Z1])\n",
    "        A1 = normalize_vector(A1)\n",
    "        Z2 = np.add(np.matmul(nn.W_layer2, A1), nn.b_layer2)\n",
    "        A2 = np.array([sigmoid(i) for i in Z2])\n",
    "        A2 = normalize_vector(A2)\n",
    "        Z3 = np.add(np.matmul(nn.W_layer3, A2), nn.b_layer3)\n",
    "        A3 = sigmoid(Z3)\n",
    "        \n",
    "        if A3 > 0.5:\n",
    "            y_pred = 1\n",
    "        else:\n",
    "            y_pred = 0\n",
    "\n",
    "        print(f\"The inputs are {x1} and {x2}\")\n",
    "        print(f\"The neural network predicted {y_pred}\")\n",
    "        print(f\"The ground truth is {y1}\\n\")"
   ]
  },
  {
   "cell_type": "code",
   "execution_count": 23,
   "metadata": {},
   "outputs": [
    {
     "name": "stdout",
     "output_type": "stream",
     "text": [
      "The inputs are 0 and 0\n",
      "The neural network predicted 0\n",
      "The ground truth is 0\n",
      "\n",
      "The inputs are 1 and 0\n",
      "The neural network predicted 1\n",
      "The ground truth is 1\n",
      "\n",
      "The inputs are 0 and 1\n",
      "The neural network predicted 1\n",
      "The ground truth is 1\n",
      "\n",
      "The inputs are 1 and 1\n",
      "The neural network predicted 0\n",
      "The ground truth is 0\n",
      "\n"
     ]
    }
   ],
   "source": [
    "test_performance(x = x, y = y, nn = best_nn)"
   ]
  }
 ],
 "metadata": {
  "kernelspec": {
   "display_name": "venv",
   "language": "python",
   "name": "python3"
  },
  "language_info": {
   "codemirror_mode": {
    "name": "ipython",
    "version": 3
   },
   "file_extension": ".py",
   "mimetype": "text/x-python",
   "name": "python",
   "nbconvert_exporter": "python",
   "pygments_lexer": "ipython3",
   "version": "3.11.6"
  }
 },
 "nbformat": 4,
 "nbformat_minor": 2
}
