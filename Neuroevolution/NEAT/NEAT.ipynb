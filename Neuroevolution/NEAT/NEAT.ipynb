{
 "cells": [
  {
   "cell_type": "markdown",
   "metadata": {},
   "source": [
    "# Application of Neuroevolution of Augmenting Topologies (NEAT) in the XOR problem\n",
    "\n",
    "This notebook explores the applicaiton of Neuroevolution of Augmenting Topologies (NEAT) in the XOR problem"
   ]
  },
  {
   "cell_type": "code",
   "execution_count": 27,
   "metadata": {},
   "outputs": [],
   "source": [
    "from itertools import count\n",
    "from enum import Enum\n",
    "from dataclasses import dataclass, field\n",
    "from typing import Iterable, Union"
   ]
  },
  {
   "cell_type": "code",
   "execution_count": null,
   "metadata": {},
   "outputs": [],
   "source": [
    "# instantiate the train set\n",
    "x = ((0,0),(1,0),(0,1),(1,1))\n",
    "y = (0,1,1,0)"
   ]
  },
  {
   "cell_type": "code",
   "execution_count": 2,
   "metadata": {},
   "outputs": [],
   "source": [
    "class type_allele(Enum):\n",
    "    INPUT = 'Input'\n",
    "    HIDDEN = 'Hidden'\n",
    "    OUTPUT = 'Output'"
   ]
  },
  {
   "cell_type": "code",
   "execution_count": 11,
   "metadata": {},
   "outputs": [],
   "source": [
    "@dataclass\n",
    "class node_gene():\n",
    "    id:int = field(default_factory=count().__next__, init = False)\n",
    "    type:type_allele"
   ]
  },
  {
   "cell_type": "code",
   "execution_count": 19,
   "metadata": {},
   "outputs": [],
   "source": [
    "@dataclass\n",
    "class connection_gene():\n",
    "    in_node: node_gene\n",
    "    out_node: node_gene\n",
    "    weight: float\n",
    "    is_enabled: bool\n",
    "    innovation_id:int"
   ]
  },
  {
   "cell_type": "code",
   "execution_count": 34,
   "metadata": {},
   "outputs": [],
   "source": [
    "@dataclass\n",
    "class NN_genome():\n",
    "    input_node_genes: Iterable[node_gene]\n",
    "    hidden_node_genes: Union[Iterable[node_gene], None] = field(default = None, init = False)\n",
    "    output_node_genes: Iterable[node_gene]\n",
    "    connection_genes: Iterable[connection_gene]\n"
   ]
  },
  {
   "cell_type": "code",
   "execution_count": 16,
   "metadata": {},
   "outputs": [],
   "source": [
    "input_node_1 = node_gene(type = type_allele.INPUT)\n",
    "input_node_2 = node_gene(type = type_allele.INPUT)\n",
    "output_node = node_gene(type = type_allele.OUTPUT)"
   ]
  },
  {
   "cell_type": "code",
   "execution_count": 21,
   "metadata": {},
   "outputs": [],
   "source": [
    "connection_gene_1 = connection_gene(in_node = input_node_1, out_node = output_node, weight = 0.5, is_enabled = True, innovation_id = 1)\n",
    "connection_gene_2 = connection_gene(in_node = input_node_2, out_node = output_node, weight = 0.5, is_enabled = True, innovation_id = 2)"
   ]
  },
  {
   "cell_type": "code",
   "execution_count": 22,
   "metadata": {},
   "outputs": [
    {
     "name": "stdout",
     "output_type": "stream",
     "text": [
      "connection_gene(in_node=node_gene(id=4, type=<type_allele.INPUT: 'Input'>), out_node=node_gene(id=6, type=<type_allele.OUTPUT: 'Output'>), weight=0.5, is_enabled=True, innovation_id=1)\n"
     ]
    }
   ],
   "source": [
    "print(connection_gene_1)"
   ]
  },
  {
   "cell_type": "code",
   "execution_count": 17,
   "metadata": {},
   "outputs": [
    {
     "name": "stdout",
     "output_type": "stream",
     "text": [
      "node_gene(id=4, type=<type_allele.INPUT: 'Input'>)\n",
      "node_gene(id=5, type=<type_allele.INPUT: 'Input'>)\n",
      "node_gene(id=6, type=<type_allele.OUTPUT: 'Output'>)\n"
     ]
    }
   ],
   "source": [
    "print(input_node_1)\n",
    "print(input_node_2)\n",
    "print(output_node)"
   ]
  },
  {
   "cell_type": "code",
   "execution_count": 35,
   "metadata": {},
   "outputs": [],
   "source": [
    "test_NN = NN_genome(input_node_genes =[input_node_1,input_node_2], output_node_genes = output_node, connection_genes=[connection_gene_1, connection_gene_2])"
   ]
  },
  {
   "cell_type": "code",
   "execution_count": 36,
   "metadata": {},
   "outputs": [
    {
     "name": "stdout",
     "output_type": "stream",
     "text": [
      "NN_genome(input_node_genes=[node_gene(id=4, type=<type_allele.INPUT: 'Input'>), node_gene(id=5, type=<type_allele.INPUT: 'Input'>)], hidden_node_genes=None, output_node_genes=node_gene(id=6, type=<type_allele.OUTPUT: 'Output'>), connection_genes=[connection_gene(in_node=node_gene(id=4, type=<type_allele.INPUT: 'Input'>), out_node=node_gene(id=6, type=<type_allele.OUTPUT: 'Output'>), weight=0.5, is_enabled=True, innovation_id=1), connection_gene(in_node=node_gene(id=5, type=<type_allele.INPUT: 'Input'>), out_node=node_gene(id=6, type=<type_allele.OUTPUT: 'Output'>), weight=0.5, is_enabled=True, innovation_id=2)])\n"
     ]
    }
   ],
   "source": [
    "print(test_NN)"
   ]
  },
  {
   "cell_type": "code",
   "execution_count": 37,
   "metadata": {},
   "outputs": [],
   "source": [
    "class neural_network():\n",
    "    def __init__(self):\n",
    "        pass™"
   ]
  },
  {
   "cell_type": "code",
   "execution_count": null,
   "metadata": {},
   "outputs": [],
   "source": [
    "def create_NN(NN_genome) -> neural_network:\n",
    "    pass"
   ]
  },
  {
   "cell_type": "code",
   "execution_count": null,
   "metadata": {},
   "outputs": [],
   "source": [
    "def main() -> None:\n",
    "    pass"
   ]
  }
 ],
 "metadata": {
  "kernelspec": {
   "display_name": "venv",
   "language": "python",
   "name": "python3"
  },
  "language_info": {
   "codemirror_mode": {
    "name": "ipython",
    "version": 3
   },
   "file_extension": ".py",
   "mimetype": "text/x-python",
   "name": "python",
   "nbconvert_exporter": "python",
   "pygments_lexer": "ipython3",
   "version": "3.11.6"
  }
 },
 "nbformat": 4,
 "nbformat_minor": 2
}
