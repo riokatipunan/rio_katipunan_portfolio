{
 "cells": [
  {
   "cell_type": "markdown",
   "metadata": {},
   "source": [
    "# How to Develop Simple Methods for Univariate Forecasting"
   ]
  },
  {
   "cell_type": "code",
   "execution_count": 3,
   "metadata": {},
   "outputs": [],
   "source": [
    "# import libraries\n",
    "from math import sqrt\n",
    "from numpy import mean\n",
    "from numpy import median\n",
    "from multiprocessing import cpu_count\n",
    "from joblib import Parallel\n",
    "from joblib import delayed\n",
    "from warnings import catch_warnings\n",
    "from warnings import filterwarnings\n",
    "from sklearn.metrics import mean_squared_error"
   ]
  },
  {
   "cell_type": "code",
   "execution_count": 4,
   "metadata": {},
   "outputs": [],
   "source": [
    "# one-step simple forecast\n",
    "def simple_forecast(history, config):\n",
    "    n, offset, avg_type = config\n",
    "    # persist value, ignore other config\n",
    "    if avg_type == 'persist':\n",
    "        return history[-n]\n",
    "    # collect values to average\n",
    "    values = list()\n",
    "    if offset == 1:\n",
    "        values = history[-n:]\n",
    "    else:\n",
    "        # skip bad configs\n",
    "        if n*offset > len(history):\n",
    "            raise Exception('Config beyond end of data: %d %d' % (n,offset))\n",
    "        # try and collect n values using offset\n",
    "        for i in range(1, n+1):\n",
    "            ix = i * offset\n",
    "            values.append(history[-ix])\n",
    "    # check if we can average\n",
    "    if len(values) < 2:\n",
    "        raise Exception('Cannot calculate average')\n",
    "    # mean of last n values\n",
    "    if avg_type == 'mean':\n",
    "        return mean(values)\n",
    "    # median of last n values\n",
    "    return median(values)"
   ]
  },
  {
   "cell_type": "code",
   "execution_count": 5,
   "metadata": {},
   "outputs": [],
   "source": [
    "# measure root mean squared error or rmse\n",
    "def measure_rmse(actual, predicted):\n",
    "    return sqrt(mean_squared_error(actual, predicted))"
   ]
  },
  {
   "cell_type": "code",
   "execution_count": 6,
   "metadata": {},
   "outputs": [],
   "source": [
    "# split a univariate dataset into train-test sets\n",
    "def train_test_split(data, n_test):\n",
    "    return data[:-n_test], data[-n_test:]\n"
   ]
  },
  {
   "cell_type": "code",
   "execution_count": 7,
   "metadata": {},
   "outputs": [],
   "source": [
    "# walk-forward validation for univariate data\n",
    "def walk_forward_validation(data, n_test, cfg):\n",
    "    predictions = list()\n",
    "    # split dataset\n",
    "    train, test = train_test_split(data, n_test)\n",
    "    # seed history with training dataset\n",
    "    history = [x for x in train]\n",
    "    # step over each time-step in the test set\n",
    "    for i in range(len(test)):\n",
    "        # fit model and make forecast for history\n",
    "        yhat = simple_forecast(history, cfg)\n",
    "        # store forecast in list of predictions\n",
    "        predictions.append(yhat)\n",
    "        # add actual observation to history for the next loop\n",
    "        history.append(test[i])\n",
    "    # estimate prediction error\n",
    "    error = measure_rmse(test, predictions)\n",
    "    return error"
   ]
  },
  {
   "cell_type": "code",
   "execution_count": 8,
   "metadata": {},
   "outputs": [],
   "source": [
    "# score a model, return None on failure\n",
    "def score_model(data, n_test, cfg, debug=False):\n",
    "    result = None\n",
    "    # convert config to a key\n",
    "    key = str(cfg)\n",
    "    # show all warnings and fail on exception if debugging\n",
    "    if debug:\n",
    "        result = walk_forward_validation(data, n_test, cfg)\n",
    "    else:\n",
    "        # one failure during model validation suggests an unstable config\n",
    "        try:\n",
    "            # never show warnings when grid searching, too noisy\n",
    "            with catch_warnings():\n",
    "                filterwarnings(\"ignore\")\n",
    "            result = walk_forward_validation(data, n_test, cfg)\n",
    "        except:\n",
    "            error = None\n",
    "    # check for an interesting result\n",
    "    if result is not None:\n",
    "        print(' > Model[%s] %.3f' % (key, result))\n",
    "    return (key, result)"
   ]
  },
  {
   "cell_type": "code",
   "execution_count": 9,
   "metadata": {},
   "outputs": [],
   "source": [
    "def grid_search(data, cfg_list, n_test, parallel=True):\n",
    "    scores = None\n",
    "    if parallel:\n",
    "        # execute configs in parallel\n",
    "        executor = Parallel(n_jobs=cpu_count(), backend='multiprocessing')\n",
    "        tasks = (delayed(score_model)(data, n_test, cfg) for cfg in cfg_list)\n",
    "        scores = executor(tasks)\n",
    "    else:\n",
    "        scores = [score_model(data, n_test, cfg) for cfg in cfg_list]\n",
    "    # remove empty results\n",
    "    scores = [r for r in scores if r[1] != None]\n",
    "    # sort configs by error, asc\n",
    "    scores.sort(key=lambda tup: tup[1])\n",
    "    return scores"
   ]
  },
  {
   "cell_type": "code",
   "execution_count": 10,
   "metadata": {},
   "outputs": [],
   "source": [
    "# create a set of simple configs to try\n",
    "def simple_configs(max_length, offsets = [1]):\n",
    "    configs = list()\n",
    "    for i in range(1, max_length+1):\n",
    "        for o in offsets:\n",
    "            for t in ['persist', 'mean', 'median']:\n",
    "                cfg = [i,o,t]\n",
    "                configs.append(cfg)\n",
    "    return configs"
   ]
  },
  {
   "cell_type": "code",
   "execution_count": 13,
   "metadata": {},
   "outputs": [
    {
     "name": "stdout",
     "output_type": "stream",
     "text": [
      " > Model[[1, 1, 'persist']] 10.000\n",
      " > Model[[2, 1, 'persist']] 20.000\n",
      " > Model[[2, 1, 'mean']] 15.000\n",
      " > Model[[2, 1, 'median']] 15.000\n",
      " > Model[[3, 1, 'persist']] 30.000\n",
      " > Model[[3, 1, 'mean']] 20.000\n",
      " > Model[[3, 1, 'median']] 20.000\n",
      " > Model[[4, 1, 'persist']] 40.000\n",
      " > Model[[4, 1, 'mean']] 25.000\n",
      " > Model[[4, 1, 'median']] 25.000\n",
      " > Model[[5, 1, 'persist']] 50.000\n",
      " > Model[[5, 1, 'mean']] 30.000\n",
      " > Model[[5, 1, 'median']] 30.000\n",
      " > Model[[6, 1, 'persist']] 60.000\n",
      " > Model[[6, 1, 'mean']] 35.000\n",
      " > Model[[6, 1, 'median']] 35.000\n",
      "done\n",
      "[1, 1, 'persist'] 10.0\n",
      "[2, 1, 'mean'] 15.0\n",
      "[2, 1, 'median'] 15.0\n"
     ]
    }
   ],
   "source": [
    "if __name__ == '__main__':\n",
    "    # define dataset\n",
    "    data = [10.0, 20.0, 30.0, 40.0, 50.0, 60.0, 70.0, 80.0, 90.0, 100.0]\n",
    "    # split data\n",
    "    n_test = 4\n",
    "    # model configs\n",
    "    max_length = len(data) - n_test\n",
    "    cfg_list = simple_configs(max_length)\n",
    "    # grid search\n",
    "    scores = grid_search(data, cfg_list, n_test, parallel = False)\n",
    "    print('done')\n",
    "    # list top 3 configs\n",
    "    for cfg, error in scores[:3]:\n",
    "        print(cfg, error)"
   ]
  },
  {
   "cell_type": "code",
   "execution_count": null,
   "metadata": {},
   "outputs": [],
   "source": []
  }
 ],
 "metadata": {
  "kernelspec": {
   "display_name": "venv",
   "language": "python",
   "name": "python3"
  },
  "language_info": {
   "codemirror_mode": {
    "name": "ipython",
    "version": 3
   },
   "file_extension": ".py",
   "mimetype": "text/x-python",
   "name": "python",
   "nbconvert_exporter": "python",
   "pygments_lexer": "ipython3",
   "version": "3.11.6"
  }
 },
 "nbformat": 4,
 "nbformat_minor": 2
}
