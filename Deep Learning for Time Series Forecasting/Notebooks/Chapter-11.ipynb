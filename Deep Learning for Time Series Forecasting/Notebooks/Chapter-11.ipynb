{
 "cells": [
  {
   "cell_type": "markdown",
   "metadata": {},
   "source": [
    "# How to Develop Simple Methods for Univariate Forecasting"
   ]
  },
  {
   "cell_type": "code",
   "execution_count": 1,
   "metadata": {},
   "outputs": [],
   "source": [
    "# one-step naive forecast\n",
    "def naive_forecast(history, n):\n",
    "    return history[-n]"
   ]
  },
  {
   "cell_type": "code",
   "execution_count": 2,
   "metadata": {},
   "outputs": [
    {
     "name": "stdout",
     "output_type": "stream",
     "text": [
      "[10, 20, 30, 40, 50, 60, 70, 80, 90, 100]\n",
      "100\n",
      "90\n",
      "80\n",
      "70\n",
      "60\n",
      "50\n",
      "40\n",
      "30\n",
      "20\n",
      "10\n"
     ]
    }
   ],
   "source": [
    "# define dataset\n",
    "data = [10,20,30,40,50,60,70,80,90,100]\n",
    "print(data)\n",
    "# test naive forecast\n",
    "for i in range(1, len(data)+1):\n",
    "    print(naive_forecast(data,i))\n"
   ]
  },
  {
   "cell_type": "code",
   "execution_count": 6,
   "metadata": {},
   "outputs": [
    {
     "name": "stderr",
     "output_type": "stream",
     "text": [
      "<>:6: SyntaxWarning: \"is\" with a literal. Did you mean \"==\"?\n",
      "<>:6: SyntaxWarning: \"is\" with a literal. Did you mean \"==\"?\n",
      "C:\\Users\\pc\\AppData\\Local\\Temp\\ipykernel_4892\\2103709765.py:6: SyntaxWarning: \"is\" with a literal. Did you mean \"==\"?\n",
      "  if avg_type is 'mean':\n"
     ]
    }
   ],
   "source": [
    "from numpy import mean, median\n",
    "# one-step average forecast\n",
    "def average_forecast(history: list, config: tuple):\n",
    "    n, avg_type = config\n",
    "    # mean of last n values\n",
    "    if avg_type is 'mean':\n",
    "        return mean(history[-n:])\n",
    "    # median of last n values\n",
    "    return median(history[-n:])"
   ]
  },
  {
   "cell_type": "code",
   "execution_count": 7,
   "metadata": {},
   "outputs": [
    {
     "name": "stdout",
     "output_type": "stream",
     "text": [
      "[10.0, 20.0, 30.0, 40.0, 50.0, 60.0, 70.0, 80.0, 90.0, 100.0]\n",
      "55.0\n"
     ]
    }
   ],
   "source": [
    "# define dataset\n",
    "data = [10.0, 20.0, 30.0, 40.0, 50.0, 60.0, 70.0, 80.0, 90.0, 100.0]\n",
    "print(data)\n",
    "# test naive forecast\n",
    "for i in range(i, len(data)+1):\n",
    "    print(average_forecast(data, (i, 'mean')))"
   ]
  },
  {
   "cell_type": "code",
   "execution_count": null,
   "metadata": {},
   "outputs": [],
   "source": []
  }
 ],
 "metadata": {
  "kernelspec": {
   "display_name": "venv",
   "language": "python",
   "name": "python3"
  },
  "language_info": {
   "codemirror_mode": {
    "name": "ipython",
    "version": 3
   },
   "file_extension": ".py",
   "mimetype": "text/x-python",
   "name": "python",
   "nbconvert_exporter": "python",
   "pygments_lexer": "ipython3",
   "version": "3.9.13"
  }
 },
 "nbformat": 4,
 "nbformat_minor": 2
}
