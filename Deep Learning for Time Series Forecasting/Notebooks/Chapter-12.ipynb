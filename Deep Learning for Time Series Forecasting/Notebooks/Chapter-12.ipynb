{
 "cells": [
  {
   "cell_type": "markdown",
   "metadata": {},
   "source": [
    "# How to Develop ETS Models for Univariate Forecasting"
   ]
  },
  {
   "cell_type": "markdown",
   "metadata": {},
   "source": [
    "The following is a good reference for Holt-Winters Smoothing:\n",
    "https://medium.com/analytics-vidhya/a-thorough-introduction-to-holt-winters-forecasting-c21810b8c0e6"
   ]
  },
  {
   "cell_type": "code",
   "execution_count": 1,
   "metadata": {},
   "outputs": [],
   "source": [
    "# grid search holt winter's exponential smoothing\n",
    "from math import sqrt\n",
    "from multiprocessing import cpu_count\n",
    "from joblib import Parallel\n",
    "from joblib import delayed\n",
    "from warnings import catch_warnings\n",
    "from warnings import filterwarnings\n",
    "from statsmodels.tsa.holtwinters import ExponentialSmoothing\n",
    "from sklearn.metrics import mean_squared_error\n",
    "from numpy import array\n",
    "from pandas import read_csv"
   ]
  },
  {
   "cell_type": "code",
   "execution_count": 2,
   "metadata": {},
   "outputs": [],
   "source": [
    "# one-step Holt Winters Exponential Smoothing forecast\n",
    "def exp_smoothing_forecast(history, config):\n",
    "    t,d,s,p,b,r = config\n",
    "    # define model\n",
    "    history = array(history)\n",
    "    model = ExponentialSmoothing(history, trend=t, damped_trend=d, seasonal=s, seasonal_periods=p, use_boxcox=b)\n",
    "    # fit model\n",
    "    model_fit = model.fit(optimized=True, remove_bias=r)\n",
    "    # make one step forecast\n",
    "    yhat = model_fit.predict(len(history), len(history))\n",
    "    return yhat[0]"
   ]
  },
  {
   "cell_type": "code",
   "execution_count": 3,
   "metadata": {},
   "outputs": [],
   "source": [
    "# root mean squared error or rmse\n",
    "def measure_rmse(actual, predicted):\n",
    "    return sqrt(mean_squared_error(actual, predicted))"
   ]
  },
  {
   "cell_type": "code",
   "execution_count": 4,
   "metadata": {},
   "outputs": [],
   "source": [
    "# split a univariate dataset into train/test sets\n",
    "def train_test_split(data, n_test):\n",
    "    return data[:-n_test], data[-n_test:]"
   ]
  },
  {
   "cell_type": "code",
   "execution_count": 5,
   "metadata": {},
   "outputs": [],
   "source": [
    "# walk-forward validation for univariate data\n",
    "def walk_forward_validation(data, n_test, cfg):\n",
    "    predictions = list()\n",
    "    # split dataset\n",
    "    train, test = train_test_split(data, n_test)\n",
    "    # seed history with training dataset\n",
    "    history = [x for x in train]\n",
    "    # step over each time-step in the test set\n",
    "    for i in range(len(test)):\n",
    "        # fit model and make forecast for history\n",
    "        yhat = exp_smoothing_forecast(history, cfg)\n",
    "        # store forecast in list of predictions\n",
    "        predictions.append(yhat)\n",
    "        # add actual observation to history for the next loop\n",
    "        history.append(test[i])\n",
    "    # estimate prediction error\n",
    "    error = measure_rmse(test, predictions)\n",
    "    return error"
   ]
  },
  {
   "cell_type": "code",
   "execution_count": 6,
   "metadata": {},
   "outputs": [],
   "source": [
    "# score a model, return None on failure\n",
    "def score_model(data, n_test, cfg, debug=False):\n",
    "    result = None\n",
    "    # convert config to a key\n",
    "    key = str(cfg)\n",
    "    # show all warnings and fail on exception if debugging\n",
    "    if debug:\n",
    "        result = walk_forward_validation(data, n_test, cfg)\n",
    "    else:\n",
    "        # one failure during model validation suggests an unstable config\n",
    "        try:\n",
    "            # never show warnings when grid searching, too noisy\n",
    "            with catch_warnings():\n",
    "                filterwarnings(\"ignore\")\n",
    "                result = walk_forward_validation(data, n_test, cfg)\n",
    "        except:\n",
    "            error = None\n",
    "    # check for an interesting result\n",
    "    if result is not None:\n",
    "        print(' > Model[%s] %.3f' % (key, result))\n",
    "    return (key, result)"
   ]
  },
  {
   "cell_type": "code",
   "execution_count": 7,
   "metadata": {},
   "outputs": [],
   "source": [
    "# grid search configs\n",
    "def grid_search(data, cfg_list, n_test, parallel=True):\n",
    "    scores = None\n",
    "    if parallel:\n",
    "        # execute configs in parallel\n",
    "        executor = Parallel(n_jobs=cpu_count(), backend='multiprocessing')\n",
    "        tasks = (delayed(score_model)(data, n_test, cfg) for cfg in cfg_list)\n",
    "        scores = executor(tasks)\n",
    "    else:\n",
    "        scores = [score_model(data, n_test, cfg) for cfg in cfg_list]\n",
    "    # remove empty results\n",
    "    scores = [r for r in scores if r[1] != None]\n",
    "    # sort configs by error, asc\n",
    "    scores.sort(key=lambda tup: tup[1])\n",
    "    return scores"
   ]
  },
  {
   "cell_type": "code",
   "execution_count": 8,
   "metadata": {},
   "outputs": [],
   "source": [
    "# create a set of exponential smoothing configs to try\n",
    "def exp_smoothing_configs(seasonal=[None]):\n",
    "    models = list()\n",
    "    # seasonal = [2]\n",
    "    # define config lists\n",
    "    t_params = ['add', 'mul', None]\n",
    "    d_params = [True, False]\n",
    "    s_params = ['add', 'mul', None]\n",
    "    p_params = seasonal\n",
    "    b_params = [True, False]\n",
    "    r_params = [True, False]\n",
    "    # create config instances\n",
    "    for t in t_params:\n",
    "        for d in d_params:\n",
    "            for s in s_params:\n",
    "                for p in p_params:\n",
    "                    for b in b_params:\n",
    "                        for r in r_params:\n",
    "                            cfg = [t,d,s,p,b,r]\n",
    "                            models.append(cfg)\n",
    "    return models"
   ]
  },
  {
   "cell_type": "code",
   "execution_count": 9,
   "metadata": {},
   "outputs": [
    {
     "name": "stdout",
     "output_type": "stream",
     "text": [
      "[10.0, 20.0, 30.0, 40.0, 50.0, 60.0, 70.0, 80.0, 90.0, 100.0]\n",
      " > Model[['add', True, None, None, True, True]] 0.953\n"
     ]
    },
    {
     "name": "stdout",
     "output_type": "stream",
     "text": [
      " > Model[['add', True, None, None, True, False]] 0.964\n",
      " > Model[['add', True, None, None, False, True]] 0.115\n",
      " > Model[['add', True, None, None, False, False]] 0.121\n",
      " > Model[['add', False, None, None, True, True]] 2.416\n",
      " > Model[['add', False, None, None, True, False]] 2.415\n",
      " > Model[['add', False, None, None, False, True]] 0.000\n",
      " > Model[['add', False, None, None, False, False]] 0.000\n",
      " > Model[['mul', True, None, None, True, True]] 1.755\n",
      " > Model[['mul', True, None, None, True, False]] 0.808\n",
      " > Model[['mul', True, None, None, False, True]] 1.612\n",
      " > Model[['mul', True, None, None, False, False]] 0.900\n",
      " > Model[['mul', False, None, None, True, True]] 1.941\n",
      " > Model[['mul', False, None, None, True, False]] 1.680\n",
      " > Model[['mul', False, None, None, False, True]] 1.584\n",
      " > Model[['mul', False, None, None, False, False]] 1.611\n",
      " > Model[[None, False, None, None, True, True]] 1.380\n",
      " > Model[[None, False, None, None, True, False]] 10.000\n",
      " > Model[[None, False, None, None, False, True]] 2.563\n",
      " > Model[[None, False, None, None, False, False]] 10.000\n",
      "done\n",
      "['add', False, None, None, False, False] 6.96168838095118e-06\n",
      "['add', False, None, None, False, True] 3.207020977639108e-05\n",
      "['add', True, None, None, False, True] 0.11515367072043833\n"
     ]
    }
   ],
   "source": [
    "if __name__ == '__main__':\n",
    "    # define dataset\n",
    "    data = [10.0, 20.0, 30.0, 40.0, 50.0, 60.0, 70.0, 80.0, 90.0, 100.0]\n",
    "    print(data)\n",
    "    # data split\n",
    "    n_test = 4\n",
    "    # model configs\n",
    "    cfg_list = exp_smoothing_configs()\n",
    "    # grid search\n",
    "    scores = grid_search(data, cfg_list, n_test, parallel = False)\n",
    "    print('done')\n",
    "    # list top 3 configs\n",
    "    for cfg, error in scores[:3]:\n",
    "        print(cfg, error)"
   ]
  },
  {
   "cell_type": "markdown",
   "metadata": {},
   "source": [
    "## Case Study 1: No Trend or Seasonality"
   ]
  },
  {
   "cell_type": "code",
   "execution_count": 10,
   "metadata": {},
   "outputs": [
    {
     "name": "stdout",
     "output_type": "stream",
     "text": [
      " > Model[['add', True, None, None, True, True]] 7.132\n",
      " > Model[['add', True, None, None, True, False]] 7.184\n",
      " > Model[['add', True, None, None, False, True]] 7.130\n",
      " > Model[['add', True, None, None, False, False]] 7.137\n",
      " > Model[['add', False, None, None, True, True]] 7.129\n",
      " > Model[['add', False, None, None, True, False]] 7.129\n",
      " > Model[['add', False, None, None, False, True]] 7.123\n",
      " > Model[['add', False, None, None, False, False]] 7.123\n",
      " > Model[['mul', True, None, None, True, True]] 17.207\n",
      " > Model[['mul', True, None, None, True, False]] 83.072\n",
      " > Model[['mul', True, None, None, False, True]] 8.364\n",
      " > Model[['mul', True, None, None, False, False]] 25.775\n",
      " > Model[['mul', False, None, None, True, True]] 7.150\n",
      " > Model[['mul', False, None, None, True, False]] 7.139\n",
      " > Model[['mul', False, None, None, False, True]] 7.166\n",
      " > Model[['mul', False, None, None, False, False]] 7.159\n",
      " > Model[[None, False, None, None, True, True]] 7.173\n",
      " > Model[[None, False, None, None, True, False]] 7.218\n",
      " > Model[[None, False, None, None, False, True]] 7.220\n",
      " > Model[[None, False, None, None, False, False]] 7.212\n",
      "done\n",
      "['add', False, None, None, False, False] 7.122627629939867\n",
      "['add', False, None, None, False, True] 7.12340634866627\n",
      "['add', False, None, None, True, False] 7.128612970121619\n"
     ]
    }
   ],
   "source": [
    "if __name__ == '__main__':\n",
    "    # load dataset\n",
    "    series = read_csv('../Data/Chapter 12/daily-total-female-births.csv', header=0, index_col=0)\n",
    "    data = series.values\n",
    "    # data split\n",
    "    n_test = 165\n",
    "    # model configs\n",
    "    cfg_list = exp_smoothing_configs()\n",
    "    # grid search\n",
    "    scores = grid_search(data[:,0], cfg_list, n_test, parallel = False)\n",
    "    print('done')\n",
    "    # list top 3 configs\n",
    "    for cfg, error in scores[:3]:\n",
    "        print(cfg, error)"
   ]
  },
  {
   "cell_type": "markdown",
   "metadata": {},
   "source": [
    "## Case Study 2: Trend"
   ]
  },
  {
   "cell_type": "code",
   "execution_count": 11,
   "metadata": {},
   "outputs": [
    {
     "name": "stdout",
     "output_type": "stream",
     "text": [
      " > Model[['add', True, None, None, True, True]] 86.892\n",
      " > Model[['add', True, None, None, True, False]] 89.946\n",
      " > Model[['add', True, None, None, False, True]] 87.748\n",
      " > Model[['add', True, None, None, False, False]] 90.545\n",
      " > Model[['add', False, None, None, True, True]] 101.065\n",
      " > Model[['add', False, None, None, True, False]] 101.210\n",
      " > Model[['add', False, None, None, False, True]] 88.512\n",
      " > Model[['add', False, None, None, False, False]] 89.824\n",
      " > Model[['mul', True, None, None, True, True]] 180.935\n",
      " > Model[['mul', True, None, None, True, False]] 273.196\n",
      " > Model[['mul', True, None, None, False, True]] 88.738\n",
      " > Model[['mul', True, None, None, False, False]] 87.934\n",
      " > Model[['mul', False, None, None, True, True]] 94.034\n",
      " > Model[['mul', False, None, None, True, False]] 95.790\n",
      " > Model[['mul', False, None, None, False, True]] 95.073\n",
      " > Model[['mul', False, None, None, False, False]] 93.361\n",
      " > Model[[None, False, None, None, True, True]] 96.682\n",
      " > Model[[None, False, None, None, True, False]] 112.379\n",
      " > Model[[None, False, None, None, False, True]] 99.416\n",
      " > Model[[None, False, None, None, False, False]] 108.031\n",
      "done\n",
      "['add', True, None, None, True, True] 86.89184572746107\n",
      "['add', True, None, None, False, True] 87.74783229892623\n",
      "['mul', True, None, None, False, False] 87.93425083284708\n"
     ]
    }
   ],
   "source": [
    "if __name__ == '__main__':\n",
    "    # load dataset\n",
    "    series = read_csv('../Data/Chapter 12/shampoo.csv', header=0, index_col=0)\n",
    "    data = series.values\n",
    "    # data split\n",
    "    n_test = 12\n",
    "    # model configs\n",
    "    cfg_list = exp_smoothing_configs()\n",
    "    # grid search\n",
    "    scores = grid_search(data[:,0], cfg_list, n_test, parallel = False)\n",
    "    print('done')\n",
    "    # list top 3 configs\n",
    "    for cfg, error in scores[:3]:\n",
    "        print(cfg, error)"
   ]
  },
  {
   "cell_type": "markdown",
   "metadata": {},
   "source": [
    "## Case Study 3: Seasonality"
   ]
  },
  {
   "cell_type": "code",
   "execution_count": 12,
   "metadata": {},
   "outputs": [
    {
     "name": "stdout",
     "output_type": "stream",
     "text": [
      " > Model[['add', True, 'add', 12, True, True]] 1.512\n",
      " > Model[['add', True, 'add', 12, True, False]] 1.515\n",
      " > Model[['add', True, 'add', 12, False, True]] 1.508\n",
      " > Model[['add', True, 'add', 12, False, False]] 1.508\n",
      " > Model[['add', True, 'mul', 12, True, True]] 1.504\n",
      " > Model[['add', True, 'mul', 12, True, False]] 1.507\n",
      " > Model[['add', True, 'mul', 12, False, True]] 1.505\n",
      " > Model[['add', True, 'mul', 12, False, False]] 1.505\n",
      " > Model[['add', True, None, 0, True, True]] 4.677\n",
      " > Model[['add', True, None, 0, True, False]] 4.602\n",
      " > Model[['add', True, None, 0, False, True]] 4.824\n",
      " > Model[['add', True, None, 0, False, False]] 4.776\n",
      " > Model[['add', True, None, 12, True, True]] 4.677\n",
      " > Model[['add', True, None, 12, True, False]] 4.602\n",
      " > Model[['add', True, None, 12, False, True]] 4.824\n",
      " > Model[['add', True, None, 12, False, False]] 4.776\n",
      " > Model[['add', False, 'add', 12, True, True]] 1.643\n",
      " > Model[['add', False, 'add', 12, True, False]] 1.633\n",
      " > Model[['add', False, 'add', 12, False, True]] 1.579\n",
      " > Model[['add', False, 'add', 12, False, False]] 1.579\n",
      " > Model[['add', False, 'mul', 12, True, True]] 1.629\n",
      " > Model[['add', False, 'mul', 12, True, False]] 1.619\n",
      " > Model[['add', False, 'mul', 12, False, True]] 1.547\n",
      " > Model[['add', False, 'mul', 12, False, False]] 1.547\n",
      " > Model[['add', False, None, 0, True, True]] 4.967\n",
      " > Model[['add', False, None, 0, True, False]] 4.894\n",
      " > Model[['add', False, None, 0, False, True]] 5.197\n",
      " > Model[['add', False, None, 0, False, False]] 5.143\n",
      " > Model[['add', False, None, 12, True, True]] 4.967\n",
      " > Model[['add', False, None, 12, True, False]] 4.894\n",
      " > Model[['add', False, None, 12, False, True]] 5.197\n",
      " > Model[['add', False, None, 12, False, False]] 5.143\n",
      " > Model[['mul', True, 'add', 12, True, True]] 361.913\n",
      " > Model[['mul', True, 'add', 12, True, False]] 465.890\n",
      " > Model[['mul', True, 'add', 12, False, True]] 7.685\n",
      " > Model[['mul', True, 'add', 12, False, False]] 15.426\n",
      " > Model[['mul', True, 'mul', 12, False, True]] 14.152\n",
      " > Model[['mul', True, 'mul', 12, False, False]] 73.079\n",
      " > Model[['mul', True, None, 0, True, True]] 5.126\n",
      " > Model[['mul', True, None, 0, True, False]] 4.554\n",
      " > Model[['mul', True, None, 0, False, True]] 4.621\n",
      " > Model[['mul', True, None, 0, False, False]] 4.576\n",
      " > Model[['mul', True, None, 12, True, True]] 5.126\n",
      " > Model[['mul', True, None, 12, True, False]] 4.554\n",
      " > Model[['mul', True, None, 12, False, True]] 4.621\n",
      " > Model[['mul', True, None, 12, False, False]] 4.576\n",
      " > Model[['mul', False, 'add', 12, True, True]] 1.644\n",
      " > Model[['mul', False, 'add', 12, True, False]] 1.633\n",
      " > Model[['mul', False, 'add', 12, False, True]] 1.579\n",
      " > Model[['mul', False, 'add', 12, False, False]] 1.579\n",
      " > Model[['mul', False, 'mul', 12, True, True]] 1.627\n",
      " > Model[['mul', False, 'mul', 12, True, False]] 1.618\n",
      " > Model[['mul', False, 'mul', 12, False, True]] 1.548\n",
      " > Model[['mul', False, 'mul', 12, False, False]] 1.548\n",
      " > Model[['mul', False, None, 0, True, True]] 4.855\n",
      " > Model[['mul', False, None, 0, True, False]] 4.817\n",
      " > Model[['mul', False, None, 0, False, True]] 4.858\n",
      " > Model[['mul', False, None, 0, False, False]] 4.830\n",
      " > Model[['mul', False, None, 12, True, True]] 4.855\n",
      " > Model[['mul', False, None, 12, True, False]] 4.817\n",
      " > Model[['mul', False, None, 12, False, True]] 4.858\n",
      " > Model[['mul', False, None, 12, False, False]] 4.830\n",
      " > Model[[None, False, 'add', 12, True, True]] 1.508\n",
      " > Model[[None, False, 'add', 12, True, False]] 1.508\n",
      " > Model[[None, False, 'add', 12, False, True]] 1.502\n",
      " > Model[[None, False, 'add', 12, False, False]] 1.502\n",
      " > Model[[None, False, 'mul', 12, True, True]] 1.508\n",
      " > Model[[None, False, 'mul', 12, True, False]] 1.509\n",
      " > Model[[None, False, 'mul', 12, False, True]] 1.502\n",
      " > Model[[None, False, 'mul', 12, False, False]] 1.502\n",
      " > Model[[None, False, None, 0, True, True]] 5.188\n",
      " > Model[[None, False, None, 0, True, False]] 5.143\n",
      " > Model[[None, False, None, 0, False, True]] 5.187\n",
      " > Model[[None, False, None, 0, False, False]] 5.143\n",
      " > Model[[None, False, None, 12, True, True]] 5.188\n",
      " > Model[[None, False, None, 12, True, False]] 5.143\n",
      " > Model[[None, False, None, 12, False, True]] 5.187\n",
      " > Model[[None, False, None, 12, False, False]] 5.143\n",
      "done\n",
      "[None, False, 'mul', 12, False, False] 1.5015604644997735\n",
      "[None, False, 'mul', 12, False, True] 1.5015625765957024\n",
      "[None, False, 'add', 12, False, True] 1.5015832223997103\n"
     ]
    }
   ],
   "source": [
    "if __name__ == '__main__':\n",
    "    # load dataset\n",
    "    series = read_csv('../Data/Chapter 12/monthly-mean-temp.csv', header=0, index_col=0)\n",
    "    data = series.values\n",
    "    # trim dataset to 5 years\n",
    "    data = data[-(5*12):]\n",
    "    # data split\n",
    "    n_test = 12\n",
    "    # model configs\n",
    "    cfg_list = exp_smoothing_configs(seasonal=[0,12])\n",
    "    # grid search\n",
    "    scores = grid_search(data[:,0], cfg_list, n_test, parallel = False)\n",
    "    print('done')\n",
    "    # list top 3 configs\n",
    "    for cfg, error in scores[:3]:\n",
    "        print(cfg, error)"
   ]
  },
  {
   "cell_type": "markdown",
   "metadata": {},
   "source": [
    "## Case Study 4: Random Walk; Stock Price"
   ]
  },
  {
   "cell_type": "code",
   "execution_count": 13,
   "metadata": {},
   "outputs": [
    {
     "name": "stdout",
     "output_type": "stream",
     "text": [
      " > Model[['add', True, None, None, False, True]] 21.275\n",
      " > Model[['add', True, None, None, False, False]] 21.141\n",
      " > Model[['add', False, None, None, False, True]] 20.957\n",
      " > Model[['add', False, None, None, False, False]] 20.867\n",
      " > Model[['mul', True, None, None, False, True]] 21.376\n",
      " > Model[['mul', True, None, None, False, False]] 21.990\n",
      " > Model[['mul', False, None, None, False, True]] 20.784\n",
      " > Model[['mul', False, None, None, False, False]] 20.819\n",
      " > Model[[None, False, None, None, False, True]] 20.939\n",
      " > Model[[None, False, None, None, False, False]] 21.248\n",
      "done\n",
      "['mul', False, None, None, False, True] 20.783740583139885\n",
      "['mul', False, None, None, False, False] 20.81948293884651\n",
      "['add', False, None, None, False, False] 20.867142899363245\n"
     ]
    }
   ],
   "source": [
    "if __name__ == '__main__':\n",
    "    # load dataset\n",
    "    series = read_csv('../Data/PH-historical-stock-price-data-csv/GLO.csv', header=0, index_col=0)\n",
    "    data = series['Close'].tail(200).values\n",
    "    # data split\n",
    "    n_test = 25\n",
    "    # model configs\n",
    "    cfg_list = exp_smoothing_configs()\n",
    "    # grid search\n",
    "    scores = grid_search(data, cfg_list, n_test, parallel = False)\n",
    "    print('done')\n",
    "    # list top 3 configs\n",
    "    for cfg, error in scores[:3]:\n",
    "        print(cfg, error)"
   ]
  }
 ],
 "metadata": {
  "kernelspec": {
   "display_name": "venv",
   "language": "python",
   "name": "python3"
  },
  "language_info": {
   "codemirror_mode": {
    "name": "ipython",
    "version": 3
   },
   "file_extension": ".py",
   "mimetype": "text/x-python",
   "name": "python",
   "nbconvert_exporter": "python",
   "pygments_lexer": "ipython3",
   "version": "3.9.13"
  }
 },
 "nbformat": 4,
 "nbformat_minor": 2
}
