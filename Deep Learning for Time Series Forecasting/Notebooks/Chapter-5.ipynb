{
 "cells": [
  {
   "cell_type": "markdown",
   "metadata": {},
   "source": [
    "# Preparing Time Series Data for CNNs and LSTMs"
   ]
  },
  {
   "cell_type": "markdown",
   "metadata": {},
   "source": [
    "This notebook explores the process of preparing time series data for CNNs and LSTMs\n",
    "\n",
    "This first part of this notebooks tries to prepare a test time series data (i.e., it was generated). \n",
    "\n",
    "The second part of the notebook tries to prepare a real time series data i.e., the historical stock price data of Globe Telecommunications (a publicly listed company in the Philippines)"
   ]
  },
  {
   "cell_type": "markdown",
   "metadata": {},
   "source": [
    "## Part 1"
   ]
  },
  {
   "cell_type": "code",
   "execution_count": 1,
   "metadata": {},
   "outputs": [],
   "source": [
    "# import libraries\n",
    "from numpy import array\n",
    "from pandas import read_csv"
   ]
  },
  {
   "cell_type": "code",
   "execution_count": 2,
   "metadata": {},
   "outputs": [],
   "source": [
    "# split a univariate sequence into samples\n",
    "def split_sequence(sequence: array, n_steps: int) -> array:\n",
    "    X, y = list(), list()\n",
    "    for i in range(len(sequence)):\n",
    "        # find the end of this pattern\n",
    "        end_ix = i+n_steps\n",
    "        #check if we are beyond the sequence\n",
    "        if end_ix > len(sequence)-1:\n",
    "            break\n",
    "        # gather input and output parts of the pattern\n",
    "        seq_x, seq_y = sequence[i:end_ix], sequence[end_ix]\n",
    "        X.append(seq_x)\n",
    "        y.append(seq_y)\n",
    "    return array(X), array(y)"
   ]
  },
  {
   "cell_type": "code",
   "execution_count": 3,
   "metadata": {},
   "outputs": [
    {
     "name": "stdout",
     "output_type": "stream",
     "text": [
      "(10,)\n",
      "(7, 3) (7,)\n",
      "[1 2 3] 4\n",
      "[2 3 4] 5\n",
      "[3 4 5] 6\n",
      "[4 5 6] 7\n",
      "[5 6 7] 8\n",
      "[6 7 8] 9\n",
      "[7 8 9] 10\n"
     ]
    }
   ],
   "source": [
    "#define univariate time series\n",
    "series = array([1,2,3,4,5,6,7,8,9,10])\n",
    "print(series.shape)\n",
    "#transform to a supervised learning problem\n",
    "X, y = split_sequence(series, 3)\n",
    "print(X.shape, y.shape)\n",
    "for i in range(len(X)):\n",
    "    print(X[i], y[i])"
   ]
  },
  {
   "cell_type": "code",
   "execution_count": 4,
   "metadata": {},
   "outputs": [],
   "source": [
    "# transform input from [samples, features] to [samples, timesteps, features]\n",
    "X = X.reshape((7,3,1))\n",
    "\n",
    "# transform input from [samples, features] to [samples, timesteps, features]\n",
    "X = X.reshape((X.shape[0],X.shape[1],1))"
   ]
  },
  {
   "cell_type": "code",
   "execution_count": 5,
   "metadata": {},
   "outputs": [
    {
     "name": "stdout",
     "output_type": "stream",
     "text": [
      "[10 20 30 40 50]\n"
     ]
    }
   ],
   "source": [
    "# create a test data\n",
    "data = list()\n",
    "n = 5000\n",
    "for i in range(n):\n",
    "    data.append([i+1, (i+1)*10])\n",
    "data = array(data)\n",
    "\n",
    "\n",
    "# siimulate dropping index from the data\n",
    "data = data[:,1]\n",
    "print(data[:5])"
   ]
  },
  {
   "cell_type": "markdown",
   "metadata": {},
   "source": [
    "## Part 2"
   ]
  },
  {
   "cell_type": "code",
   "execution_count": 6,
   "metadata": {},
   "outputs": [
    {
     "name": "stdout",
     "output_type": "stream",
     "text": [
      "<bound method NDFrame.head of                 Close       Open       High        Low   Volume\n",
      "Date                                                           \n",
      "1986-01-02   172.6575   172.6575   172.6575   172.6575    600.0\n",
      "1986-01-03   172.6575   172.6575   172.6575   172.6575   1900.0\n",
      "1986-01-06   175.4879   175.4879   175.4879   175.4879   2800.0\n",
      "1986-01-07   181.1488   175.4879   181.1488   175.4879   3200.0\n",
      "1986-01-09   181.1488   181.1488   181.1488   181.1488   2600.0\n",
      "...               ...        ...        ...        ...      ...\n",
      "2023-09-12  1781.0000  1786.0000  1809.0000  1781.0000  12985.0\n",
      "2023-09-13  1787.0000  1799.0000  1799.0000  1781.0000  16850.0\n",
      "2023-09-14  1795.0000  1795.0000  1795.0000  1782.0000  12070.0\n",
      "2023-09-15  1752.0000  1795.0000  1810.0000  1752.0000  29105.0\n",
      "2023-09-18  1752.0000  1789.0000  1789.0000  1752.0000  27225.0\n",
      "\n",
      "[8861 rows x 5 columns]>\n",
      "Index(['Close', 'Open', 'High', 'Low', 'Volume'], dtype='object')\n"
     ]
    }
   ],
   "source": [
    "# load time series dataset\n",
    "series = read_csv(filepath_or_buffer = './Data/csv/GLO.csv', header = 0, index_col = 0)\n",
    "print(series.head)\n",
    "print(series.columns)"
   ]
  },
  {
   "cell_type": "code",
   "execution_count": 7,
   "metadata": {},
   "outputs": [
    {
     "data": {
      "text/html": [
       "<div>\n",
       "<style scoped>\n",
       "    .dataframe tbody tr th:only-of-type {\n",
       "        vertical-align: middle;\n",
       "    }\n",
       "\n",
       "    .dataframe tbody tr th {\n",
       "        vertical-align: top;\n",
       "    }\n",
       "\n",
       "    .dataframe thead th {\n",
       "        text-align: right;\n",
       "    }\n",
       "</style>\n",
       "<table border=\"1\" class=\"dataframe\">\n",
       "  <thead>\n",
       "    <tr style=\"text-align: right;\">\n",
       "      <th></th>\n",
       "      <th>Close</th>\n",
       "    </tr>\n",
       "    <tr>\n",
       "      <th>Date</th>\n",
       "      <th></th>\n",
       "    </tr>\n",
       "  </thead>\n",
       "  <tbody>\n",
       "    <tr>\n",
       "      <th>1986-01-02</th>\n",
       "      <td>172.6575</td>\n",
       "    </tr>\n",
       "    <tr>\n",
       "      <th>1986-01-03</th>\n",
       "      <td>172.6575</td>\n",
       "    </tr>\n",
       "    <tr>\n",
       "      <th>1986-01-06</th>\n",
       "      <td>175.4879</td>\n",
       "    </tr>\n",
       "    <tr>\n",
       "      <th>1986-01-07</th>\n",
       "      <td>181.1488</td>\n",
       "    </tr>\n",
       "    <tr>\n",
       "      <th>1986-01-09</th>\n",
       "      <td>181.1488</td>\n",
       "    </tr>\n",
       "    <tr>\n",
       "      <th>...</th>\n",
       "      <td>...</td>\n",
       "    </tr>\n",
       "    <tr>\n",
       "      <th>2023-09-12</th>\n",
       "      <td>1781.0000</td>\n",
       "    </tr>\n",
       "    <tr>\n",
       "      <th>2023-09-13</th>\n",
       "      <td>1787.0000</td>\n",
       "    </tr>\n",
       "    <tr>\n",
       "      <th>2023-09-14</th>\n",
       "      <td>1795.0000</td>\n",
       "    </tr>\n",
       "    <tr>\n",
       "      <th>2023-09-15</th>\n",
       "      <td>1752.0000</td>\n",
       "    </tr>\n",
       "    <tr>\n",
       "      <th>2023-09-18</th>\n",
       "      <td>1752.0000</td>\n",
       "    </tr>\n",
       "  </tbody>\n",
       "</table>\n",
       "<p>8861 rows × 1 columns</p>\n",
       "</div>"
      ],
      "text/plain": [
       "                Close\n",
       "Date                 \n",
       "1986-01-02   172.6575\n",
       "1986-01-03   172.6575\n",
       "1986-01-06   175.4879\n",
       "1986-01-07   181.1488\n",
       "1986-01-09   181.1488\n",
       "...               ...\n",
       "2023-09-12  1781.0000\n",
       "2023-09-13  1787.0000\n",
       "2023-09-14  1795.0000\n",
       "2023-09-15  1752.0000\n",
       "2023-09-18  1752.0000\n",
       "\n",
       "[8861 rows x 1 columns]"
      ]
     },
     "execution_count": 7,
     "metadata": {},
     "output_type": "execute_result"
    }
   ],
   "source": [
    "# drop all other columns except for closing stock price\n",
    "series.drop(columns=['Open','High', 'Low', 'Volume'])"
   ]
  },
  {
   "cell_type": "code",
   "execution_count": 8,
   "metadata": {},
   "outputs": [
    {
     "name": "stdout",
     "output_type": "stream",
     "text": [
      "<class 'numpy.ndarray'>\n",
      "(8861,)\n"
     ]
    }
   ],
   "source": [
    "# convert series into numpy array and only retain the closing prices\n",
    "series = series['Close'].to_numpy()\n",
    "print(type(series))\n",
    "print(series.shape)\n"
   ]
  },
  {
   "cell_type": "code",
   "execution_count": 9,
   "metadata": {},
   "outputs": [
    {
     "name": "stdout",
     "output_type": "stream",
     "text": [
      "[[172.6575 172.6575 175.4879 181.1488 181.1488 181.1488 181.1488 181.1488\n",
      "  178.3184 178.3184]\n",
      " [172.6575 175.4879 181.1488 181.1488 181.1488 181.1488 181.1488 178.3184\n",
      "  178.3184 178.3184]\n",
      " [175.4879 181.1488 181.1488 181.1488 181.1488 181.1488 178.3184 178.3184\n",
      "  178.3184 181.1488]\n",
      " [181.1488 181.1488 181.1488 181.1488 181.1488 178.3184 178.3184 178.3184\n",
      "  181.1488 181.1488]\n",
      " [181.1488 181.1488 181.1488 181.1488 178.3184 178.3184 178.3184 181.1488\n",
      "  181.1488 183.9793]]\n"
     ]
    }
   ],
   "source": [
    "# split the time series data\n",
    "X, y = split_sequence(series, 10)\n",
    "print(X[:5])"
   ]
  },
  {
   "cell_type": "code",
   "execution_count": null,
   "metadata": {},
   "outputs": [],
   "source": []
  }
 ],
 "metadata": {
  "kernelspec": {
   "display_name": "Python 3",
   "language": "python",
   "name": "python3"
  },
  "language_info": {
   "codemirror_mode": {
    "name": "ipython",
    "version": 3
   },
   "file_extension": ".py",
   "mimetype": "text/x-python",
   "name": "python",
   "nbconvert_exporter": "python",
   "pygments_lexer": "ipython3",
   "version": "3.9.13"
  },
  "orig_nbformat": 4
 },
 "nbformat": 4,
 "nbformat_minor": 2
}
